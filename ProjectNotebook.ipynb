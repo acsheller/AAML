{
 "cells": [
  {
   "cell_type": "markdown",
   "id": "acef17a0-0a83-4e4c-ace6-a391c41e6741",
   "metadata": {},
   "source": [
    "# EN 707.742 Advanced Applied Machine Learning.\n",
    "\n",
    "## Deep Reinforcement Learning Agent as a Kubernetes Scheduler\n",
    "\n",
    "## Research Project by Anthony Sheller"
   ]
  },
  {
   "cell_type": "markdown",
   "id": "88035c17-3324-4951-908d-22e42496a650",
   "metadata": {},
   "source": [
    "---\n",
    "\n",
    "### Overview\n",
    "This project simulates a Kubernetes cluster and a scheduling agent or scheduler. The purpose of the scheduler is to allocate resources to the `optimal` node or physical server in the cluster.  This project experiments with a variety of neural networks as the `deep` component  of Deep Reinforcement Learning (DRL).\n",
    "\n",
    "**Useful Commands** \n",
    "There are several aliases used to shorten the command needed to launch experiments. These commands can be used at a terminal which can be launched at a `launcher`. \n",
    "\n",
    "- `ktop` -- Lists the nodes in the cluster and the load on the cluster. This is good to keep running in a terminal while the experiment is ongoing.\n",
    "- `rundqn` -- Run's the Deep Q Network (DQN) scheduling agent.  This agent is based on an ordinary neural network.\n",
    "- `rungnn` -- Run's the GNN backed DQN.  The agent uses a graph neural network to make selections of the nodes.\n",
    "- `runacdqn` \n",
    "\n",
    "\n",
    "\n"
   ]
  },
  {
   "cell_type": "markdown",
   "id": "54d10864-d252-444a-bdd9-8d6d33d0e75a",
   "metadata": {},
   "source": [
    "\n",
    "---\n",
    "\n",
    "#### Do imports and define some thread methods to run the simulator and the scheduling agent.  \n",
    "\n",
    "The modules created have been added to the path with `sys.path`.  Because of the amount of  \n",
    "\n",
    "\n",
    "---"
   ]
  },
  {
   "cell_type": "code",
   "execution_count": 1,
   "id": "5f6df282-f66c-4b9c-b778-5f7772e6edde",
   "metadata": {},
   "outputs": [],
   "source": [
    "import pandas as pd\n",
    "import sys\n",
    "import io\n",
    "import time\n",
    "import threading\n",
    "sys.path.append('./scripts/')\n",
    "from scheduler_dqn import CustomSchedulerDQN\n",
    "from workload_deployment_simulator import WorkloadDeploymentSimulator\n",
    "from IPython.display import display, clear_output, HTML\n",
    "\n",
    "def run_agent(model):\n",
    "    model.run()\n",
    "\n",
    "def run_simulator(model):\n",
    "    model.run(interval=10, duration=1, epochs=1)"
   ]
  },
  {
   "cell_type": "markdown",
   "id": "c4514931-4126-4363-9332-7df42a7c7cf4",
   "metadata": {},
   "source": [
    "---\n",
    "\n",
    "Create the DQN Simulator\n",
    "\n",
    "---"
   ]
  },
  {
   "cell_type": "code",
   "execution_count": null,
   "id": "2e536534-cb3c-4b27-a6cb-9adfdd6c3f9e",
   "metadata": {},
   "outputs": [],
   "source": [
    "dqn = CustomSchedulerDQN(init_epsi=1.0,gamma=0.9,learning_rate=1e-3,epsi_decay=0.995,replay_buffer_size=100,batch_size=25,target_update_frequency=50)"
   ]
  },
  {
   "cell_type": "code",
   "execution_count": null,
   "id": "ccb1cd15-2a8c-4f43-8e54-af6fa7c584c1",
   "metadata": {},
   "outputs": [],
   "source": []
  },
  {
   "cell_type": "code",
   "execution_count": null,
   "id": "0e50b509-1cf4-426b-8ae5-75fc9e9d82f4",
   "metadata": {
    "scrolled": true
   },
   "outputs": [],
   "source": [
    "model_thread = threading.Thread(target=run_agent, args=(dqn,), daemon=True)\n",
    "model_thread.start()"
   ]
  },
  {
   "cell_type": "code",
   "execution_count": null,
   "id": "8b919548-eb96-4c02-b25a-451d279585a6",
   "metadata": {},
   "outputs": [],
   "source": [
    "!pip install optima"
   ]
  },
  {
   "cell_type": "code",
   "execution_count": null,
   "id": "7ad36cb0-363b-4e88-8025-b30871f43b9c",
   "metadata": {},
   "outputs": [],
   "source": [
    "# Display the output widget\n",
    "display(log_output)"
   ]
  },
  {
   "cell_type": "markdown",
   "id": "9933b2ef-c2ae-4219-a175-44bb5650e6d0",
   "metadata": {},
   "source": [
    "#\n",
    "Loop on different hyperparameters\n",
    "    1. Select Hyperparamters\n",
    "    2. Create Agent\n",
    "    3. Agent Run\n",
    "    4. Simulator Run\n",
    "    5. Simulator Finish\n",
    "    6. Save results to tensorboaerd\n",
    "    6. Clear cluster\n",
    "\n",
    "\n",
    "\n"
   ]
  },
  {
   "cell_type": "code",
   "execution_count": null,
   "id": "dc37c1b9-516f-45c4-9bad-cddcad00b0e0",
   "metadata": {},
   "outputs": [],
   "source": [
    "# Add this to the constructor to use custom scheduler: scheduler='custom-scheduler'\n",
    "simulator = WorkloadDeploymentSimulator(cpu_load=0.30,mem_load=0.50,pod_load=0.50,scheduler='custom-scheduler')\n",
    "\n",
    "model_thread = threading.Thread(target=run_simulator, args=(simulator,), daemon=True)\n",
    "model_thread.start()"
   ]
  }
 ],
 "metadata": {
  "kernelspec": {
   "display_name": "Python 3 (ipykernel)",
   "language": "python",
   "name": "python3"
  },
  "language_info": {
   "codemirror_mode": {
    "name": "ipython",
    "version": 3
   },
   "file_extension": ".py",
   "mimetype": "text/x-python",
   "name": "python",
   "nbconvert_exporter": "python",
   "pygments_lexer": "ipython3",
   "version": "3.10.12"
  }
 },
 "nbformat": 4,
 "nbformat_minor": 5
}
