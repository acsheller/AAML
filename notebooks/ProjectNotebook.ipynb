{
 "cells": [
  {
   "cell_type": "markdown",
   "id": "acef17a0-0a83-4e4c-ace6-a391c41e6741",
   "metadata": {},
   "source": [
    "# EN 707.742 Advanced Applied Machine Learning.\n",
    "\n",
    "## Deep Reinforcement Learning Agent as a Kubernetes Scheduler\n",
    "\n",
    "## Research Project by Anthony Sheller"
   ]
  },
  {
   "cell_type": "markdown",
   "id": "88035c17-3324-4951-908d-22e42496a650",
   "metadata": {},
   "source": [
    "---\n",
    "\n",
    "### Overview\n",
    "This project simulates a Kubernetes cluster and a scheduling agent or scheduler. The purpose of the scheduler is to allocate resources to the `optimal` node or physical server in the cluster.  This project experiments with a variety of neural networks as the `deep` component  of Deep Reinforcement Learning (DRL).\n",
    "\n",
    "**Useful Commands** \n",
    "There are several aliases used to shorten the command needed to launch experiments. These commands can be used at a terminal which can be launched at a `launcher` tab here. \n",
    "\n",
    "- `ktop` -- Lists the nodes in the cluster and the load on the cluster. This is good to keep running in a terminal while the experiment is ongoing.\n",
    "- `rundqn` -- Run's the Deep Q Network (DQN) scheduling agent.  This agent is based on an ordinary neural network.\n",
    "- `rungnn` -- Run's the GNN backed DQN.  The agent uses a graph neural network to make selections of the nodes.\n",
    "- `runacdqn` -- run's the Actor Critic DQN Agent.\n",
    "- `runacgnn` -- run the Actor Critic GNN Agent\n",
    "- `cleancluster` -- in case of Ctrl-C to stop things.  clean the cluster by typing this command. \n",
    "\n",
    "Because the cluster runs external it is best to run the simulater and agents in shells.\n",
    "\n",
    "`rungnn --epsi_decay=0.991 --gamma=0.95 --log_scrolling`  use this to run the dqn without heuristics.\r",
    "` rungnn --epsi_decay=0.991 --gamma=0.95 --log_scrolling ---use_heuristi`  use this to run the gnn with heuristics.\n",
    "\n",
    "`runacdqn --log_scrolling`  use this to run the actor-critic dqn agent\n",
    "\n",
    "`runacgnn` --log_scrolling`  use this to run the actor-critic gnn agent\n",
    "\n",
    "\n",
    "To run the simulator type `runsim` at a different shell.\n",
    "\n",
    "\n",
    "Access Tensorboard at [http://127.0.0.1:/6006](http://127.0.0.1:6006)c\n",
    "\n",
    "For help, Contact Anthony Sheller, ashelle5@jhu.edu"
   ]
  },
  {
   "cell_type": "code",
   "execution_count": 1,
   "id": "5f6df282-f66c-4b9c-b778-5f7772e6edde",
   "metadata": {},
   "outputs": [],
   "source": []
  }
 ],
 "metadata": {
  "kernelspec": {
   "display_name": "Python 3 (ipykernel)",
   "language": "python",
   "name": "python3"
  },
  "language_info": {
   "codemirror_mode": {
    "name": "ipython",
    "version": 3
   },
   "file_extension": ".py",
   "mimetype": "text/x-python",
   "name": "python",
   "nbconvert_exporter": "python",
   "pygments_lexer": "ipython3",
   "version": "3.10.13"
  }
 },
 "nbformat": 4,
 "nbformat_minor": 5
}
